{
 "cells": [
  {
   "cell_type": "markdown",
   "metadata": {
    "id": "KJqp9AANOCtf"
   },
   "source": [
    "<img src=\"https://raw.githubusercontent.com/andre-marcos-perez/ebac-course-utils/main/media/logo/newebac_logo_black_half.png\" alt=\"ebac-logo\">\n",
    "\n",
    "---\n",
    "\n",
    "# **Módulo** | Pipeline de Dados do Telegram II\n",
    "Caderno de **Exercícios**<br> \n",
    "Professor [André Perez](https://www.linkedin.com/in/andremarcosperez/)\n",
    "\n",
    "---"
   ]
  },
  {
   "cell_type": "markdown",
   "metadata": {
    "id": "d9jDtUbDOE1-"
   },
   "source": [
    "# **Tópicos**\n",
    "\n",
    "<ol type=\"1\">\n",
    "  <li>Ingestão;</li>\n",
    "  <li>ETL;</li>\n",
    "  <li>Apresentação;</li>\n",
    "  <li>Storytelling.</li>\n",
    "</ol>"
   ]
  },
  {
   "cell_type": "markdown",
   "metadata": {
    "id": "SmoHgt-lwkpD"
   },
   "source": [
    "---"
   ]
  },
  {
   "cell_type": "markdown",
   "metadata": {
    "id": "GABI6OW8OfQ2"
   },
   "source": [
    "# **Exercícios**"
   ]
  },
  {
   "cell_type": "markdown",
   "metadata": {
    "id": "ne7Ay0HKaGSv"
   },
   "source": [
    "## 1\\. Ingestão"
   ]
  },
  {
   "cell_type": "markdown",
   "metadata": {
    "id": "OQxOVktrzG9I"
   },
   "source": [
    "Replique as atividades da aula 1."
   ]
  },
  {
   "cell_type": "markdown",
   "metadata": {
    "id": "C4_2Q6VxE7bZ"
   },
   "source": [
    "1.1. Crie um `bucket` no `AWS S3` para o armazenamento de dados crus, não se esqueça de adicionar o sufixo `-raw`."
   ]
  },
  {
   "cell_type": "markdown",
   "metadata": {
    "id": "OFamvPQdFJ9V"
   },
   "source": [
    "1.2. Crie uma função no `AWS Lambda` para recebimento das mensagens e armazenamento no formato JSON no `bucket` de dados crus. Não se esqueça de configurar as variáveis de ambiente e de adicionar as permissão de interação com `AWS S3` no `AWS IAM`."
   ]
  },
  {
   "cell_type": "markdown",
   "metadata": {
    "id": "E2E14I2YFkUW"
   },
   "source": [
    "> **Nota**: Para testar a função com evento do próprio `AWS Lambda`, substitua o código `message = json.loads(event[\"body\"])` por `message = event`. Lembre-se que o primeiro só faz sentido na integração com o `AWS API Gateway`."
   ]
  },
  {
   "cell_type": "markdown",
   "metadata": {
    "id": "JoZx3o2QGIx-"
   },
   "source": [
    "1.3. Crie uma API no `AWS API Gateway` a conecte a função do `AWS Lambda`, conforme apresentado na aula."
   ]
  },
  {
   "cell_type": "markdown",
   "metadata": {
    "id": "VRUI7edtGrot"
   },
   "source": [
    "> **Nota**: não disponibilize o endereço da API gerada."
   ]
  },
  {
   "cell_type": "markdown",
   "metadata": {
    "id": "2QhB4SmjGVDZ"
   },
   "source": [
    "1.4. Configura o *webhook* do *bot* através do método `setWebhook` da API de *bots* do **Telegram**. utilize o endereço da API criada no `AWS API Gateway`. Utilize o método `getWebhookInfo` para consultar a integração."
   ]
  },
  {
   "cell_type": "markdown",
   "metadata": {
    "id": "w6axVNYxG1I0"
   },
   "source": [
    "> **Nota**: não disponibilize o *token* de acesso ao seu *bot* da API de *bots* do **Telegram**."
   ]
  },
  {
   "cell_type": "markdown",
   "metadata": {
    "id": "kQ-wge9yHCC3"
   },
   "source": [
    "## 2\\. ETL"
   ]
  },
  {
   "cell_type": "markdown",
   "metadata": {
    "id": "r1MneksdHCC6"
   },
   "source": [
    "Replique as atividades da aula 2."
   ]
  },
  {
   "cell_type": "markdown",
   "metadata": {
    "id": "rCCWZtBCHCC7"
   },
   "source": [
    "2.1. Crie um `bucket` no `AWS S3` para o armazenamento de dados enriquecidos, não se esqueça de adicionar o sufixo `-enriched`."
   ]
  },
  {
   "cell_type": "markdown",
   "metadata": {
    "id": "cEb2SIgjHg5e"
   },
   "source": [
    "2.2. Cria uma função no `AWS Lambda` para processar as mensagens JSON de uma única partição do dia anterior (D-1), armazenadas no *bucket* de dados crus. Salve o resultado em um único arquivo PARQUET, também particionado por dia. Não se esqueça de configurar as variáveis de ambiente, de adicionar as permissão de interação com `AWS S3` no `AWS IAM`, de configurar o *timeout* e de adicionar a *layer* com o código do pacote Python PyArrow."
   ]
  },
  {
   "cell_type": "markdown",
   "metadata": {
    "id": "Yf5a_JKkIOdS"
   },
   "source": [
    "> **Nota**: Para testar a função, substitua o código `date = (datetime.now(tzinfo) - timedelta(days=1)).strftime('%Y-%m-%d')` por `date = (datetime.now(tzinfo) - timedelta(days=0)).strftime('%Y-%m-%d')`, permitindo assim o processamento de mensagens de um mesmo dia."
   ]
  },
  {
   "cell_type": "markdown",
   "metadata": {
    "id": "exu8rdDHHT_h"
   },
   "source": [
    "2.3. Crie uma regra no `AWS Event Bridge` para executar a função do `AWS Lambda` todo dia a meia noite no horário de Brasília (GMT-3)."
   ]
  },
  {
   "cell_type": "markdown",
   "metadata": {
    "id": "7v7499xfIjrn"
   },
   "source": [
    "## 3\\. Apresentação"
   ]
  },
  {
   "cell_type": "markdown",
   "metadata": {
    "id": "i4CBpJt3Ijrp"
   },
   "source": [
    "Replique as atividades da aula 3."
   ]
  },
  {
   "cell_type": "markdown",
   "metadata": {
    "id": "sN0dvM8tIviK"
   },
   "source": [
    "3.1. Cria a tabela no `AWS Athena` que aponte para os dados armazenados no bucket enriquecido do `AWS S3`."
   ]
  },
  {
   "cell_type": "markdown",
   "metadata": {
    "id": "w3Lf4CPsI--8"
   },
   "source": [
    "3.2. Execute o comando `MSCK REPAIR TABLE <nome-tabela>` para carregar as partições."
   ]
  },
  {
   "cell_type": "markdown",
   "metadata": {
    "id": "5o3mNIKiJKqL"
   },
   "source": [
    "3.3. Execute as consultas SQL para explorar os dados."
   ]
  },
  {
   "cell_type": "markdown",
   "metadata": {
    "id": "TwA9AmeSInp8"
   },
   "source": [
    "## 4\\. Storytelling"
   ]
  },
  {
   "cell_type": "markdown",
   "metadata": {
    "id": "Xhpcu4TNInp9"
   },
   "source": [
    "Siga as dicas da aula 4 para expor o seu projeto."
   ]
  }
 ],
 "metadata": {
  "colab": {
   "collapsed_sections": [],
   "name": "modulo_44_exercicio.ipynb",
   "provenance": [],
   "toc_visible": true
  },
  "kernelspec": {
   "display_name": "Python 3 (ipykernel)",
   "language": "python",
   "name": "python3"
  },
  "language_info": {
   "codemirror_mode": {
    "name": "ipython",
    "version": 3
   },
   "file_extension": ".py",
   "mimetype": "text/x-python",
   "name": "python",
   "nbconvert_exporter": "python",
   "pygments_lexer": "ipython3",
   "version": "3.8.5"
  }
 },
 "nbformat": 4,
 "nbformat_minor": 1
}
